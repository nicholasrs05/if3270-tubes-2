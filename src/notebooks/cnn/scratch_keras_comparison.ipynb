{
 "cells": [
  {
   "cell_type": "code",
   "execution_count": 2,
   "id": "9ff76c4a",
   "metadata": {},
   "outputs": [],
   "source": [
    "import pickle\n",
    "import numpy as np\n",
    "from sklearn.model_selection import train_test_split\n",
    "from tensorflow.keras.models import Sequential\n",
    "from tensorflow.keras.layers import Conv2D, MaxPooling2D, Flatten, Dense, AveragePooling2D\n",
    "import matplotlib.pyplot as plt\n",
    "from sklearn.metrics import classification_report, f1_score"
   ]
  },
  {
   "cell_type": "code",
   "execution_count": 3,
   "id": "0816159e",
   "metadata": {},
   "outputs": [],
   "source": [
    "def load_cifar10_batch(file_path):\n",
    "    with open(file_path, 'rb') as f:\n",
    "        batch = pickle.load(f, encoding='bytes')\n",
    "        images = batch[b'data']\n",
    "        labels = batch[b'labels']\n",
    "        images = images.reshape(-1, 3, 32, 32).transpose(0, 2, 3, 1)\n",
    "        images = images.astype('float32') / 255.0\n",
    "        labels = np.array(labels)\n",
    "        return images, labels\n",
    "\n",
    "train_images = []\n",
    "train_labels = []\n",
    "\n",
    "for i in range (5):\n",
    "    file_path = f\"D:/Cool Yeah/Semester VI/IF3270 - Pembejalaran Mesin/Tubes 2/cifar-10-python/cifar-10-batches-py/data_batch_{i+1}\"\n",
    "    images, labels = load_cifar10_batch(file_path)\n",
    "    train_images.append(images)\n",
    "    train_labels.append(labels)\n",
    "\n",
    "train_images = np.concatenate(train_images)\n",
    "train_labels = np.concatenate(train_labels)\n",
    "\n",
    "x_test, y_test = load_cifar10_batch(\"D:/Cool Yeah/Semester VI/IF3270 - Pembejalaran Mesin/Tubes 2/cifar-10-python/cifar-10-batches-py/test_batch\")"
   ]
  },
  {
   "cell_type": "code",
   "execution_count": 4,
   "id": "583fce1e",
   "metadata": {},
   "outputs": [],
   "source": [
    "x_train, x_val, y_train, y_val = train_test_split(\n",
    "    train_images, train_labels, test_size=0.2, random_state=42, stratify=train_labels\n",
    ")"
   ]
  },
  {
   "cell_type": "markdown",
   "id": "f0655ed2",
   "metadata": {},
   "source": [
    "### Keras\n",
    "\n",
    "<p>\n",
    "Spesifikasi:<br/>\n",
    "6 layer konvolusi:<br/>\n",
    "- filter 32 dengan ukuran 3 x 3 dan aktivasi relu<br/>\n",
    "- filter 32 dengan ukuran 3 x 3 dan aktivasi relu<br/>\n",
    "- filter 64 dengan ukuran 3 x 3 dan aktivasi relu<br/>\n",
    "- filter 64 dengan ukuran 3 x 3 dan aktivasi relu<br/>\n",
    "- filter 128 dengan ukuran 3 x 3 dan aktivasi relu<br/>\n",
    "- filter 128 dengan ukuran 3 x 3 dan aktivasi relu<br/>\n",
    "3 layer max pooling dengan ukuran 2 x 2<br/>\n",
    "1 flatten<br/>\n",
    "2 layer dense:<br/>\n",
    "- 1 dengan 128 neuron dan aktivasi relu<br/>\n",
    "- 1 dengan 10 neuron dan aktivasi softmax\n",
    "</p>"
   ]
  },
  {
   "cell_type": "code",
   "execution_count": 5,
   "id": "d5621d6e",
   "metadata": {},
   "outputs": [
    {
     "name": "stderr",
     "output_type": "stream",
     "text": [
      "C:\\Users\\Nicholas R. Sihite\\AppData\\Roaming\\Python\\Python311\\site-packages\\keras\\src\\layers\\convolutional\\base_conv.py:113: UserWarning: Do not pass an `input_shape`/`input_dim` argument to a layer. When using Sequential models, prefer using an `Input(shape)` object as the first layer in the model instead.\n",
      "  super().__init__(activity_regularizer=activity_regularizer, **kwargs)\n"
     ]
    },
    {
     "name": "stdout",
     "output_type": "stream",
     "text": [
      "Epoch 1/10\n",
      "\u001b[1m625/625\u001b[0m \u001b[32m━━━━━━━━━━━━━━━━━━━━\u001b[0m\u001b[37m\u001b[0m \u001b[1m43s\u001b[0m 66ms/step - accuracy: 0.3092 - loss: 1.8406 - val_accuracy: 0.5403 - val_loss: 1.2501\n",
      "Epoch 2/10\n",
      "\u001b[1m625/625\u001b[0m \u001b[32m━━━━━━━━━━━━━━━━━━━━\u001b[0m\u001b[37m\u001b[0m \u001b[1m71s\u001b[0m 49ms/step - accuracy: 0.5853 - loss: 1.1675 - val_accuracy: 0.6433 - val_loss: 1.0066\n",
      "Epoch 3/10\n",
      "\u001b[1m625/625\u001b[0m \u001b[32m━━━━━━━━━━━━━━━━━━━━\u001b[0m\u001b[37m\u001b[0m \u001b[1m25s\u001b[0m 40ms/step - accuracy: 0.6816 - loss: 0.8962 - val_accuracy: 0.6879 - val_loss: 0.8845\n",
      "Epoch 4/10\n",
      "\u001b[1m625/625\u001b[0m \u001b[32m━━━━━━━━━━━━━━━━━━━━\u001b[0m\u001b[37m\u001b[0m \u001b[1m25s\u001b[0m 40ms/step - accuracy: 0.7465 - loss: 0.7279 - val_accuracy: 0.7235 - val_loss: 0.7997\n",
      "Epoch 5/10\n",
      "\u001b[1m625/625\u001b[0m \u001b[32m━━━━━━━━━━━━━━━━━━━━\u001b[0m\u001b[37m\u001b[0m \u001b[1m25s\u001b[0m 40ms/step - accuracy: 0.7817 - loss: 0.6210 - val_accuracy: 0.7512 - val_loss: 0.7363\n",
      "Epoch 6/10\n",
      "\u001b[1m625/625\u001b[0m \u001b[32m━━━━━━━━━━━━━━━━━━━━\u001b[0m\u001b[37m\u001b[0m \u001b[1m25s\u001b[0m 40ms/step - accuracy: 0.8193 - loss: 0.5135 - val_accuracy: 0.7696 - val_loss: 0.6765\n",
      "Epoch 7/10\n",
      "\u001b[1m625/625\u001b[0m \u001b[32m━━━━━━━━━━━━━━━━━━━━\u001b[0m\u001b[37m\u001b[0m \u001b[1m24s\u001b[0m 39ms/step - accuracy: 0.8553 - loss: 0.4231 - val_accuracy: 0.7716 - val_loss: 0.7194\n",
      "Epoch 8/10\n",
      "\u001b[1m625/625\u001b[0m \u001b[32m━━━━━━━━━━━━━━━━━━━━\u001b[0m\u001b[37m\u001b[0m \u001b[1m24s\u001b[0m 38ms/step - accuracy: 0.8780 - loss: 0.3454 - val_accuracy: 0.7760 - val_loss: 0.7191\n",
      "Epoch 9/10\n",
      "\u001b[1m625/625\u001b[0m \u001b[32m━━━━━━━━━━━━━━━━━━━━\u001b[0m\u001b[37m\u001b[0m \u001b[1m24s\u001b[0m 38ms/step - accuracy: 0.9066 - loss: 0.2677 - val_accuracy: 0.7613 - val_loss: 0.8201\n",
      "Epoch 10/10\n",
      "\u001b[1m625/625\u001b[0m \u001b[32m━━━━━━━━━━━━━━━━━━━━\u001b[0m\u001b[37m\u001b[0m \u001b[1m24s\u001b[0m 38ms/step - accuracy: 0.9256 - loss: 0.2125 - val_accuracy: 0.7714 - val_loss: 0.8655\n"
     ]
    }
   ],
   "source": [
    "model_1 = Sequential([\n",
    "    Conv2D(32, (3, 3), activation='relu', padding='same', input_shape=(32, 32, 3)),\n",
    "    Conv2D(32, (3, 3), activation='relu', padding='same'),\n",
    "    MaxPooling2D(pool_size=(2, 2)),\n",
    "    Conv2D(64, (3, 3), activation='relu', padding='same'),\n",
    "    Conv2D(64, (3, 3), activation='relu', padding='same'),\n",
    "    MaxPooling2D(pool_size=(2, 2)),\n",
    "    Conv2D(128, (3, 3), activation='relu', padding='same'),\n",
    "    Conv2D(128, (3, 3), activation='relu', padding='same'),\n",
    "    MaxPooling2D(pool_size=(2, 2)),\n",
    "    Flatten(),\n",
    "    Dense(128, activation='relu'),\n",
    "    Dense(10, activation='softmax')\n",
    "])\n",
    "\n",
    "model_1.compile(\n",
    "    optimizer='adam',\n",
    "    loss='sparse_categorical_crossentropy',\n",
    "    metrics=['accuracy']\n",
    ")\n",
    "\n",
    "history_1 = model_1.fit(\n",
    "    x_train, y_train,\n",
    "    epochs=10,\n",
    "    batch_size=64,\n",
    "    validation_data=(x_val, y_val)\n",
    ")"
   ]
  },
  {
   "cell_type": "markdown",
   "id": "9490da22",
   "metadata": {},
   "source": [
    "### Scratch\n",
    "\n",
    "<p>\n",
    "Spesifikasi:<br/>\n",
    "6 layer konvolusi:<br/>\n",
    "- filter 32 dengan ukuran 3 x 3 dan aktivasi relu<br/>\n",
    "- filter 32 dengan ukuran 3 x 3 dan aktivasi relu<br/>\n",
    "- filter 64 dengan ukuran 3 x 3 dan aktivasi relu<br/>\n",
    "- filter 64 dengan ukuran 3 x 3 dan aktivasi relu<br/>\n",
    "- filter 128 dengan ukuran 3 x 3 dan aktivasi relu<br/>\n",
    "- filter 128 dengan ukuran 3 x 3 dan aktivasi relu<br/>\n",
    "3 layer max pooling dengan ukuran 2 x 2<br/>\n",
    "1 flatten<br/>\n",
    "2 layer dense:<br/>\n",
    "- 1 dengan 128 neuron dan aktivasi relu<br/>\n",
    "- 1 dengan 10 neuron dan aktivasi softmax\n",
    "</p>"
   ]
  },
  {
   "cell_type": "code",
   "execution_count": 6,
   "id": "64c0164f",
   "metadata": {},
   "outputs": [],
   "source": [
    "# model_2 = Sequential([\n",
    "#     Conv2D(32, (3, 3), activation='relu', input_shape=(32, 32, 3)),\n",
    "#     AveragePooling2D(2, 2),\n",
    "#     Conv2D(64, (3, 3), activation='relu'),\n",
    "#     AveragePooling2D(2, 2),\n",
    "#     Flatten(),\n",
    "#     Dense(64, activation='relu'),\n",
    "#     Dense(10, activation='softmax')\n",
    "# ])\n",
    "\n",
    "# model_2.compile(\n",
    "#     optimizer='adam',\n",
    "#     loss='sparse_categorical_crossentropy',\n",
    "#     metrics=['accuracy']\n",
    "# )\n",
    "\n",
    "# history_2 = model_2.fit(\n",
    "#     x_train, y_train,\n",
    "#     epochs=10,\n",
    "#     batch_size=64,\n",
    "#     validation_data=(x_val, y_val)\n",
    "# )"
   ]
  },
  {
   "cell_type": "code",
   "execution_count": 7,
   "id": "d06f9a28",
   "metadata": {},
   "outputs": [],
   "source": [
    "def evaluate_model(model, x_test, y_test, history):\n",
    "    y_pred = model.predict(x_test)\n",
    "    y_pred_classes = y_pred.argmax(axis=1)\n",
    "    \n",
    "    f1 = f1_score(y_test, y_pred_classes, average='macro')\n",
    "    print(classification_report(y_test, y_pred_classes))\n",
    "    print(f\"Macro F1-score: {f1:.4f}\")\n",
    "\n",
    "    plt.plot(history.history['loss'], label='Train Loss')\n",
    "    plt.plot(history.history['val_loss'], label='Val Loss')\n",
    "    plt.title('Training vs Validation Loss')\n",
    "    plt.xlabel('Epoch')\n",
    "    plt.ylabel('Loss')\n",
    "    plt.legend()\n",
    "    plt.show()\n",
    "    \n",
    "    return f1"
   ]
  },
  {
   "cell_type": "markdown",
   "id": "caa6b7fe",
   "metadata": {},
   "source": [
    "### Evaluasi Model Keras"
   ]
  },
  {
   "cell_type": "code",
   "execution_count": 8,
   "id": "adfbb185",
   "metadata": {},
   "outputs": [
    {
     "name": "stdout",
     "output_type": "stream",
     "text": [
      "\u001b[1m313/313\u001b[0m \u001b[32m━━━━━━━━━━━━━━━━━━━━\u001b[0m\u001b[37m\u001b[0m \u001b[1m2s\u001b[0m 8ms/step\n",
      "              precision    recall  f1-score   support\n",
      "\n",
      "           0       0.77      0.82      0.79      1000\n",
      "           1       0.87      0.86      0.86      1000\n",
      "           2       0.68      0.65      0.66      1000\n",
      "           3       0.61      0.56      0.58      1000\n",
      "           4       0.70      0.73      0.72      1000\n",
      "           5       0.69      0.68      0.68      1000\n",
      "           6       0.78      0.81      0.80      1000\n",
      "           7       0.82      0.83      0.83      1000\n",
      "           8       0.90      0.81      0.85      1000\n",
      "           9       0.79      0.88      0.83      1000\n",
      "\n",
      "    accuracy                           0.76     10000\n",
      "   macro avg       0.76      0.76      0.76     10000\n",
      "weighted avg       0.76      0.76      0.76     10000\n",
      "\n",
      "Macro F1-score: 0.7612\n"
     ]
    },
    {
     "data": {
      "image/png": "[encoded data removed]",
      "text/plain": [
       "<Figure size 640x480 with 1 Axes>"
      ]
     },
     "metadata": {},
     "output_type": "display_data"
    },
    {
     "data": {
      "text/plain": [
       "0.7612034485569639"
      ]
     },
     "execution_count": 8,
     "metadata": {},
     "output_type": "execute_result"
    }
   ],
   "source": [
    "evaluate_model(model_1, x_test, y_test, history_1)"
   ]
  },
  {
   "cell_type": "markdown",
   "id": "2e2d99e5",
   "metadata": {},
   "source": [
    "### Evaluasi Model Scratch"
   ]
  },
  {
   "cell_type": "code",
   "execution_count": 9,
   "id": "4f0c814f",
   "metadata": {},
   "outputs": [],
   "source": [
    "# evaluate_model(model_2, x_test, y_test, history_2)"
   ]
  }
 ],
 "metadata": {
  "kernelspec": {
   "display_name": "Python 3",
   "language": "python",
   "name": "python3"
  },
  "language_info": {
   "codemirror_mode": {
    "name": "ipython",
    "version": 3
   },
   "file_extension": ".py",
   "mimetype": "text/x-python",
   "name": "python",
   "nbconvert_exporter": "python",
   "pygments_lexer": "ipython3",
   "version": "3.11.4"
  }
 },
 "nbformat": 4,
 "nbformat_minor": 5
}
