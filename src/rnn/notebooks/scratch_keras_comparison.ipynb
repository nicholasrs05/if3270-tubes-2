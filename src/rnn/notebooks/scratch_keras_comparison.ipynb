{
 "cells": [
  {
   "cell_type": "markdown",
   "metadata": {},
   "source": [
    "# Simple RNN Scratch vs. Keras\n",
    "\n",
    "This notebook compares the RNN Scratch implementation with Keras's RNN implementation."
   ]
  },
  {
   "cell_type": "markdown",
   "metadata": {},
   "source": [
    "## Import Library"
   ]
  },
  {
   "cell_type": "code",
   "execution_count": 14,
   "metadata": {},
   "outputs": [],
   "source": [
    "import sys\n",
    "import os\n",
    "\n",
    "sys.path.append(os.path.abspath('../../../'))"
   ]
  },
  {
   "cell_type": "code",
   "execution_count": 15,
   "metadata": {},
   "outputs": [],
   "source": [
    "from src.rnn.preprocessing import TextPreprocessor\n",
    "from src.rnn.keras import RNNKerasModel\n",
    "from src.rnn.model import RNNModel\n",
    "from src.rnn.utils import load_nusax_data\n",
    "import matplotlib.pyplot as plt"
   ]
  },
  {
   "cell_type": "markdown",
   "metadata": {},
   "source": [
    "## Preparation"
   ]
  },
  {
   "cell_type": "code",
   "execution_count": 16,
   "metadata": {},
   "outputs": [],
   "source": [
    "FOLDER_PATH = \"../../../data/nusax\"\n",
    "OUTPUT_PATH = \"../../../src/rnn/output\"\n",
    "WEIGHTS_FILE = \"model_weights.npz\""
   ]
  },
  {
   "cell_type": "markdown",
   "metadata": {},
   "source": [
    "### Load Data from CSV"
   ]
  },
  {
   "cell_type": "code",
   "execution_count": 17,
   "metadata": {},
   "outputs": [],
   "source": [
    "train_texts, train_labels = load_nusax_data(FOLDER_PATH + \"/train.csv\")\n",
    "valid_texts, valid_labels = load_nusax_data(FOLDER_PATH + \"/valid.csv\")\n",
    "test_texts, test_labels = load_nusax_data(FOLDER_PATH + \"/test.csv\")"
   ]
  },
  {
   "cell_type": "markdown",
   "metadata": {},
   "source": [
    "### Preprocess Data"
   ]
  },
  {
   "cell_type": "code",
   "execution_count": 18,
   "metadata": {},
   "outputs": [],
   "source": [
    "preprocessor = TextPreprocessor(\n",
    "        max_tokens=5000, output_sequence_length=54, embedding_dim=100\n",
    "    )\n",
    "\n",
    "preprocessor.fit(train_texts)\n",
    "\n",
    "train_sequences = preprocessor.preprocess(train_texts)\n",
    "valid_sequences = preprocessor.preprocess(valid_texts)\n",
    "test_sequences = preprocessor.preprocess(test_texts)"
   ]
  },
  {
   "cell_type": "markdown",
   "metadata": {},
   "source": [
    "## Keras Model Training"
   ]
  },
  {
   "cell_type": "code",
   "execution_count": 19,
   "metadata": {},
   "outputs": [],
   "source": [
    "EPOCHS = 10\n",
    "BATCH_SIZE = 128"
   ]
  },
  {
   "cell_type": "code",
   "execution_count": 20,
   "metadata": {},
   "outputs": [
    {
     "name": "stdout",
     "output_type": "stream",
     "text": [
      "Epoch 1/10\n",
      "\u001b[1m4/4\u001b[0m \u001b[32m━━━━━━━━━━━━━━━━━━━━\u001b[0m\u001b[37m\u001b[0m \u001b[1m1s\u001b[0m 54ms/step - accuracy: 0.3773 - loss: 1.0858 - val_accuracy: 0.4500 - val_loss: 1.0405\n",
      "Epoch 2/10\n",
      "\u001b[1m4/4\u001b[0m \u001b[32m━━━━━━━━━━━━━━━━━━━━\u001b[0m\u001b[37m\u001b[0m \u001b[1m0s\u001b[0m 22ms/step - accuracy: 0.5952 - loss: 0.8826 - val_accuracy: 0.5100 - val_loss: 0.9681\n",
      "Epoch 3/10\n",
      "\u001b[1m4/4\u001b[0m \u001b[32m━━━━━━━━━━━━━━━━━━━━\u001b[0m\u001b[37m\u001b[0m \u001b[1m0s\u001b[0m 22ms/step - accuracy: 0.7270 - loss: 0.7002 - val_accuracy: 0.4900 - val_loss: 0.9915\n",
      "Epoch 4/10\n",
      "\u001b[1m4/4\u001b[0m \u001b[32m━━━━━━━━━━━━━━━━━━━━\u001b[0m\u001b[37m\u001b[0m \u001b[1m0s\u001b[0m 23ms/step - accuracy: 0.8848 - loss: 0.5253 - val_accuracy: 0.4700 - val_loss: 1.0504\n",
      "Epoch 5/10\n",
      "\u001b[1m4/4\u001b[0m \u001b[32m━━━━━━━━━━━━━━━━━━━━\u001b[0m\u001b[37m\u001b[0m \u001b[1m0s\u001b[0m 22ms/step - accuracy: 0.9669 - loss: 0.3081 - val_accuracy: 0.5200 - val_loss: 0.9756\n",
      "Epoch 6/10\n",
      "\u001b[1m4/4\u001b[0m \u001b[32m━━━━━━━━━━━━━━━━━━━━\u001b[0m\u001b[37m\u001b[0m \u001b[1m0s\u001b[0m 23ms/step - accuracy: 0.9829 - loss: 0.1578 - val_accuracy: 0.5000 - val_loss: 1.0664\n",
      "Epoch 7/10\n",
      "\u001b[1m4/4\u001b[0m \u001b[32m━━━━━━━━━━━━━━━━━━━━\u001b[0m\u001b[37m\u001b[0m \u001b[1m0s\u001b[0m 23ms/step - accuracy: 0.9979 - loss: 0.0604 - val_accuracy: 0.4300 - val_loss: 1.1702\n",
      "Epoch 8/10\n",
      "\u001b[1m4/4\u001b[0m \u001b[32m━━━━━━━━━━━━━━━━━━━━\u001b[0m\u001b[37m\u001b[0m \u001b[1m0s\u001b[0m 22ms/step - accuracy: 0.9987 - loss: 0.0322 - val_accuracy: 0.4900 - val_loss: 1.2263\n",
      "Epoch 9/10\n",
      "\u001b[1m4/4\u001b[0m \u001b[32m━━━━━━━━━━━━━━━━━━━━\u001b[0m\u001b[37m\u001b[0m \u001b[1m0s\u001b[0m 23ms/step - accuracy: 1.0000 - loss: 0.0143 - val_accuracy: 0.4500 - val_loss: 1.2733\n",
      "Epoch 10/10\n",
      "\u001b[1m4/4\u001b[0m \u001b[32m━━━━━━━━━━━━━━━━━━━━\u001b[0m\u001b[37m\u001b[0m \u001b[1m0s\u001b[0m 26ms/step - accuracy: 1.0000 - loss: 0.0093 - val_accuracy: 0.4400 - val_loss: 1.2890\n"
     ]
    }
   ],
   "source": [
    "keras_model = RNNKerasModel(\n",
    "    vocab_size=preprocessor.get_vocab_size(),\n",
    "    embedding_dim=100,\n",
    "    rnn_units=128,\n",
    "    dropout_rate=0.2,\n",
    "    bidirectional=True,\n",
    ")\n",
    "\n",
    "history = keras_model.model.fit(\n",
    "    train_sequences,\n",
    "    train_labels,\n",
    "    validation_data=(valid_sequences, valid_labels),\n",
    "    epochs=EPOCHS,\n",
    "    batch_size=BATCH_SIZE,\n",
    "    verbose=1,\n",
    ")"
   ]
  },
  {
   "cell_type": "markdown",
   "metadata": {},
   "source": [
    "### Save model's weights"
   ]
  },
  {
   "cell_type": "code",
   "execution_count": 21,
   "metadata": {},
   "outputs": [],
   "source": [
    "weights_path = os.path.join(OUTPUT_PATH, WEIGHTS_FILE)\n",
    "keras_model.save_weights(weights_path)"
   ]
  },
  {
   "cell_type": "markdown",
   "metadata": {},
   "source": [
    "## Scratch Model"
   ]
  },
  {
   "cell_type": "code",
   "execution_count": 22,
   "metadata": {},
   "outputs": [],
   "source": [
    "scratch_model = RNNModel(\n",
    "    vocab_size=preprocessor.get_vocab_size(),\n",
    "    embedding_dim=100,\n",
    "    rnn_units=128,\n",
    "    dropout_rate=0.2,\n",
    "    bidirectional=True,\n",
    ")\n",
    "\n",
    "scratch_model.load_weights(weights_path)"
   ]
  },
  {
   "cell_type": "markdown",
   "metadata": {},
   "source": [
    "## Model Evaluation"
   ]
  },
  {
   "cell_type": "markdown",
   "metadata": {},
   "source": [
    "### Training vs Validation Loss Keras Model"
   ]
  },
  {
   "cell_type": "code",
   "execution_count": 23,
   "metadata": {},
   "outputs": [
    {
     "data": {
      "image/png": "[encoded data removed]",
      "text/plain": [
       "<Figure size 1000x600 with 1 Axes>"
      ]
     },
     "metadata": {},
     "output_type": "display_data"
    }
   ],
   "source": [
    "\n",
    "plt.figure(figsize=(10, 6))\n",
    "plt.plot(history.history['loss'], label='Train Loss')\n",
    "plt.plot(history.history['val_loss'], label='Val Loss')\n",
    "plt.title('Training vs Validation Loss')\n",
    "plt.xlabel('Epoch')\n",
    "plt.ylabel('Loss')\n",
    "plt.legend()\n",
    "plt.show()"
   ]
  },
  {
   "cell_type": "markdown",
   "metadata": {},
   "source": [
    "### F1 Score Scratch vs Keras"
   ]
  },
  {
   "cell_type": "code",
   "execution_count": 24,
   "metadata": {},
   "outputs": [
    {
     "name": "stdout",
     "output_type": "stream",
     "text": [
      "\u001b[1m13/13\u001b[0m \u001b[32m━━━━━━━━━━━━━━━━━━━━\u001b[0m\u001b[37m\u001b[0m \u001b[1m0s\u001b[0m 15ms/step\n",
      "Keras F1 Score: 0.5420991558764415\n",
      "From-scratch F1 Score: 0.5420991558764415\n"
     ]
    }
   ],
   "source": [
    "keras_f1 = keras_model.evaluate(test_sequences, test_labels)\n",
    "scratch_f1 = scratch_model.evaluate(test_sequences, test_labels)\n",
    "\n",
    "print(f\"Keras F1 Score: {keras_f1}\")\n",
    "print(f\"From-scratch F1 Score: {scratch_f1:}\")"
   ]
  }
 ],
 "metadata": {
  "kernelspec": {
   "display_name": ".venv",
   "language": "python",
   "name": "python3"
  },
  "language_info": {
   "codemirror_mode": {
    "name": "ipython",
    "version": 3
   },
   "file_extension": ".py",
   "mimetype": "text/x-python",
   "name": "python",
   "nbconvert_exporter": "python",
   "pygments_lexer": "ipython3",
   "version": "3.9.6"
  }
 },
 "nbformat": 4,
 "nbformat_minor": 2
}
